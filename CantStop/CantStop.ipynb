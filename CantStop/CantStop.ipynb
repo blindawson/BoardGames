{
 "cells": [
  {
   "cell_type": "code",
   "execution_count": 145,
   "metadata": {},
   "outputs": [],
   "source": [
    "import pandas as pd\n",
    "import numpy as np\n",
    "from itertools import combinations"
   ]
  },
  {
   "cell_type": "code",
   "execution_count": 145,
   "metadata": {},
   "outputs": [],
   "source": [
    "def dice_df():\n",
    "    df = pd.DataFrame(\n",
    "        np.array(\n",
    "            np.meshgrid(range(1,7), range(1,7),\n",
    "                        range(1,7), range(1,7)))\n",
    "        .reshape(4, -1).T, \n",
    "        columns=['D1', 'D2', 'D3', 'D4'])\n",
    "    df['D12'] = df['D1'] + df['D2']\n",
    "    df['D13'] = df['D1'] + df['D3']\n",
    "    df['D14'] = df['D1'] + df['D4']\n",
    "    df['D23'] = df['D2'] + df['D3']\n",
    "    df['D24'] = df['D2'] + df['D4']\n",
    "    df['D34'] = df['D3'] + df['D4']\n",
    "    return df\n",
    "\n",
    "def odds(n1, n2, n3):\n",
    "    dice = dice_df()\n",
    "    hits = pd.DataFrame([])\n",
    "    hits['n1'] = (dice.loc[:, 'D12':'D34'] == n1).any(axis=1)\n",
    "    hits['n2'] = (dice.loc[:, 'D12':'D34'] == n2).any(axis=1)\n",
    "    hits['n3'] = (dice.loc[:, 'D12':'D34'] == n3).any(axis=1)\n",
    "    hits['any'] = hits.loc[:,'n1':'n3'].any(axis=1)\n",
    "    return hits['any'].sum() / len(hits)\n",
    "\n",
    "def odds_table():\n",
    "    df = pd.DataFrame(list(combinations(range(2,13), 3)),\n",
    "                      columns=['N1', 'N2', 'N3'])\n",
    "    df['Odds'] = df.apply(lambda r: odds(r['N1'], r['N2'], r['N3']), axis=1)\n",
    "    return df"
   ]
  },
  {
   "cell_type": "code",
   "execution_count": 166,
   "metadata": {},
   "outputs": [],
   "source": [
    "board_rows = pd.Series([3, 5, 7, 9, 11, 13, 11, 9, 7, 5, 3],\n",
    "                       index=range(2,13))\n",
    "\n",
    "def benefit(n1, n2, n3):\n",
    "    "
   ]
  }
 ],
 "metadata": {
  "kernelspec": {
   "display_name": "Python 3",
   "language": "python",
   "name": "python3"
  },
  "language_info": {
   "codemirror_mode": {
    "name": "ipython",
    "version": 3
   },
   "file_extension": ".py",
   "mimetype": "text/x-python",
   "name": "python",
   "nbconvert_exporter": "python",
   "pygments_lexer": "ipython3",
   "version": "3.7.6"
  }
 },
 "nbformat": 4,
 "nbformat_minor": 4
}
